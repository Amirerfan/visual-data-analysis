{
 "cells": [
  {
   "cell_type": "code",
   "execution_count": 2,
   "outputs": [],
   "source": [
    "import graphviz"
   ],
   "metadata": {
    "collapsed": false,
    "ExecuteTime": {
     "end_time": "2023-05-08T10:59:25.321131844Z",
     "start_time": "2023-05-08T10:59:25.277332764Z"
    }
   }
  },
  {
   "cell_type": "code",
   "execution_count": 13,
   "outputs": [
    {
     "data": {
      "text/plain": "'doctest-output/Digraph.gv.pdf'"
     },
     "execution_count": 13,
     "metadata": {},
     "output_type": "execute_result"
    }
   ],
   "source": [],
   "metadata": {
    "collapsed": false,
    "ExecuteTime": {
     "end_time": "2023-05-08T12:01:30.787588207Z",
     "start_time": "2023-05-08T12:01:30.726441489Z"
    }
   }
  },
  {
   "cell_type": "code",
   "execution_count": null,
   "outputs": [],
   "source": [],
   "metadata": {
    "collapsed": false
   }
  },
  {
   "cell_type": "markdown",
   "source": [
    "Exercise 3 (Interactive Visualization with Dash, 25 Points)\n",
    "\n",
    "This task introduces you to Dash, a productive Python framework for building web applications. Dash allows you to build data visualization apps with custom user interfaces in pure Python. You should find the Dash tutorial, as well as the documentation chapter on Pattern Matching Callbacks, useful for solving this exercise (https://dash.plotly.com/).\n",
    "\n",
    "a) Read the file Data_Cortex_Nuclear.xls (from Sheet 3), and restrict it to the classes t-CS-s and c-CS-s. Run PCA, ISOMAP and t-SNE as dimensionality reduction techniques. Within the Dash framework, create a single scatter plot that will show the output from one of the techniques, as selected by the user. Add a Radio component from Dash to switch between the different techniques. A callback function is a function which is triggered by an event such as a mouse click, double click, or selection. In Dash, you can use @app.callback to define your event callback, with the dropdown value as the input. (10P)\n",
    "\n",
    "b) Add a second scatter plot with corresponding dropdown menus that should give you the opportunity to map any individual feature (i.e., protein) to any of the axes. (5P)\n",
    "\n",
    "c) Allow the user to show an arbitrary number of scatterplots by implementing an “Add” button. Clicking on it should replicate the scatterplot that is on the right side of your previously implemented app, keeping the current user-defined axis settings. The new plots should appear below the old ones, as in Figure 2. (10P)\n",
    "Hints:\n",
    "    • If you haven’t looked at States yet - now is the time to do so. See the Basic Callbacks Tutorial.\n",
    "    • All the components in a Div container are stored in its ”children” list. (This assignment usually happens automatically when you define your layout.) You can achieve a flexible layout by giving the Div container a component ID and using its ”children” list as both a State and an Output for your callback.\n",
    "    • If the callback was triggered by the Add button, you want to append the new plot to the children list of the parent Div.\n"
   ],
   "metadata": {
    "collapsed": false
   }
  }
 ],
 "metadata": {
  "kernelspec": {
   "name": "python3",
   "language": "python",
   "display_name": "Python 3 (ipykernel)"
  }
 },
 "nbformat": 4,
 "nbformat_minor": 2
}
